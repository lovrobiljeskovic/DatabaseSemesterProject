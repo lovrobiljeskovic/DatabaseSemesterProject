{
 "cells": [
  {
   "cell_type": "code",
   "execution_count": 5,
   "metadata": {},
   "outputs": [
    {
     "name": "stdout",
     "output_type": "stream",
     "text": [
      "[('Twenty', 'O'), ('miles', 'O'), ('east', 'O'), ('of', 'O'), ('Reno', 'LOCATION'), (',', 'O'), ('Nev.', 'LOCATION'), (',', 'O'), ('where', 'O'), ('packs', 'O'), ('of', 'O'), ('wild', 'O'), ('mustangs', 'O'), ('roam', 'O'), ('free', 'O'), ('through', 'O'), ('the', 'O'), ('parched', 'O'), ('landscape', 'O'), (',', 'O'), ('Tesla', 'ORGANIZATION'), ('Gigafactory', 'ORGANIZATION'), ('1', 'O'), ('sprawls', 'O'), ('near', 'O'), ('wallmart', 'O'), ('.', 'O'), ('Zagreb', 'LOCATION'), ('Copenhagen', 'LOCATION'), ('Denmark', 'LOCATION')]\n"
     ]
    }
   ],
   "source": [
    "import nltk\n",
    "from nltk.tag.stanford import StanfordNERTagger\n",
    "\n",
    "sentence = u\"Twenty miles east of Reno, Nev., \" \\\n",
    "    \"where packs of wild mustangs roam free through \" \\\n",
    "    \"the parched landscape, Tesla Gigafactory 1 \" \\\n",
    "    \"sprawls near wallmart. Zagreb Copenhagen Denmark\"\n",
    "\n",
    "jar = './stanford-ner.jar'\n",
    "model = './english.all.3class.distsim.crf.ser.gz'\n",
    "\n",
    "# Prepare NER tagger with english model\n",
    "ner_tagger = StanfordNERTagger(model, jar, encoding='utf8')\n",
    "\n",
    "# Tokenize: Split sentence into words\n",
    "words = nltk.word_tokenize(sentence)\n",
    "\n",
    "# Run NER tagger on words\n",
    "print(ner_tagger.tag(words))"
   ]
  }
 ],
 "metadata": {
  "kernelspec": {
   "display_name": "Python 3",
   "language": "python",
   "name": "python3"
  },
  "language_info": {
   "codemirror_mode": {
    "name": "ipython",
    "version": 3
   },
   "file_extension": ".py",
   "mimetype": "text/x-python",
   "name": "python",
   "nbconvert_exporter": "python",
   "pygments_lexer": "ipython3",
   "version": "3.6.3"
  }
 },
 "nbformat": 4,
 "nbformat_minor": 2
}
